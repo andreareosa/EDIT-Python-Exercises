{
 "cells": [
  {
   "cell_type": "markdown",
   "metadata": {},
   "source": [
    "## Python - Level 1 Exercises\n",
    "\n",
    "#### Author: André Areosa\n",
    "#### Date: 04/10/2022"
   ]
  },
  {
   "cell_type": "markdown",
   "metadata": {},
   "source": [
    "### 1. Create a program that:\n",
    "    a. asks a user the radius of a cylinder;\n",
    "    b. asks a user the height of a cylinder;\n",
    "    c. Prints the volume of that cylinder;\n",
    "    d. Prints the surface area of that cylinder;"
   ]
  },
  {
   "cell_type": "code",
   "execution_count": 17,
   "metadata": {},
   "outputs": [],
   "source": [
    "import math\n",
    "\n",
    "def ask_cylinder():\n",
    "    \n",
    "    r = ''\n",
    "    h = ''\n",
    "\n",
    "    while not (type(r) == float and type(h) == float):\n",
    "    \n",
    "        try:\n",
    "            r = float(input('Provide the radius for a cylinder: '))\n",
    "            h = float(input('Provide the height for a cylinder: '))\n",
    "    \n",
    "        except:\n",
    "            print('Please provide a valid entry!')\n",
    "    \n",
    "        else:\n",
    "            print('Thank you!')\n",
    "            print('Volume of the cylinder: ', + round(h * math.pi * r**2,2))\n",
    "            print('Surface area of the cylinder: ', + round(2 * math.pi * r * (r + h),2))"
   ]
  },
  {
   "cell_type": "code",
   "execution_count": 18,
   "metadata": {},
   "outputs": [
    {
     "name": "stdout",
     "output_type": "stream",
     "text": [
      "Provide the radius for a cylinder: 10\n",
      "Provide the height for a cylinder: 5\n",
      "Thank you!\n",
      "Volume of the cylinder:  1570.8\n",
      "Surface area of the cylinder:  942.48\n"
     ]
    }
   ],
   "source": [
    "ask_cylinder()"
   ]
  },
  {
   "cell_type": "markdown",
   "metadata": {},
   "source": [
    "### 2. Create a function that:\n",
    "\n",
    "    a. Receives a string:\n",
    "    b. print only the characters present at an even index number. (Eg.: ‘My string’ -> ‘M’, ‘ ’, ‘t’,’i’,’g’)"
   ]
  },
  {
   "cell_type": "code",
   "execution_count": 72,
   "metadata": {},
   "outputs": [],
   "source": [
    "def even_string(some_string):\n",
    "    \n",
    "    even_chars = []\n",
    "    \n",
    "    for index,letter in enumerate(some_string):\n",
    "        if index % 2 == 0:\n",
    "            even_chars.append(letter)\n",
    "            \n",
    "    return even_chars"
   ]
  },
  {
   "cell_type": "code",
   "execution_count": 73,
   "metadata": {},
   "outputs": [
    {
     "data": {
      "text/plain": [
       "['s', 'm', ' ', 'a', 'd', 'm', 's', 'r', 'n']"
      ]
     },
     "execution_count": 73,
     "metadata": {},
     "output_type": "execute_result"
    }
   ],
   "source": [
    "even_string('some random string')"
   ]
  },
  {
   "cell_type": "markdown",
   "metadata": {},
   "source": [
    "### 3. Create a function that:\n",
    "\n",
    "    a. Receives an integer number\n",
    "    b. Returns true if the given number is palindromic (eg.: 7, 77, 121,3443,5341435).\n"
   ]
  },
  {
   "cell_type": "code",
   "execution_count": 75,
   "metadata": {},
   "outputs": [],
   "source": [
    "def ask_int():\n",
    "    \n",
    "    x = ''\n",
    "    \n",
    "    while not (type(x) == int):\n",
    "        \n",
    "        try:\n",
    "            x = int(input('Provide a number to check if it is palindromic: '))\n",
    "            \n",
    "        except:\n",
    "            print('Please provide a valid number!')\n",
    "            \n",
    "        else:\n",
    "            return int(str(x)[::-1]) == x\n",
    "            "
   ]
  },
  {
   "cell_type": "code",
   "execution_count": 74,
   "metadata": {},
   "outputs": [
    {
     "name": "stdout",
     "output_type": "stream",
     "text": [
      "Provide a number to check if it is palindromic: 3443\n"
     ]
    },
    {
     "data": {
      "text/plain": [
       "True"
      ]
     },
     "execution_count": 74,
     "metadata": {},
     "output_type": "execute_result"
    }
   ],
   "source": [
    "ask_int()"
   ]
  },
  {
   "cell_type": "markdown",
   "metadata": {},
   "source": [
    "### 4. Using print(), format a decimal number to be displayed:\n",
    "\n",
    "    a. With 2 decimal places (eg.: 123.456 -> 123.46);\n",
    "    b. With 2 decimal places in exponential format (eg.: 123.456 ->1.23e+02)."
   ]
  },
  {
   "cell_type": "code",
   "execution_count": 102,
   "metadata": {},
   "outputs": [
    {
     "data": {
      "text/plain": [
       "3559.196654469631"
      ]
     },
     "execution_count": 102,
     "metadata": {},
     "output_type": "execute_result"
    }
   ],
   "source": [
    "from random import uniform\n",
    "\n",
    "x = uniform(10,5000)\n",
    "x"
   ]
  },
  {
   "cell_type": "code",
   "execution_count": 103,
   "metadata": {},
   "outputs": [
    {
     "name": "stdout",
     "output_type": "stream",
     "text": [
      "3559.20\n"
     ]
    }
   ],
   "source": [
    "print('{:0.2f}'.format(x))"
   ]
  },
  {
   "cell_type": "code",
   "execution_count": 111,
   "metadata": {},
   "outputs": [
    {
     "name": "stdout",
     "output_type": "stream",
     "text": [
      "3.56e+03\n"
     ]
    }
   ],
   "source": [
    "print('{:.2e}'.format(x))"
   ]
  },
  {
   "cell_type": "markdown",
   "metadata": {},
   "source": [
    "### 5. Create a list of float numbers:\n",
    "    \n",
    "    a. ask the user for the list size;\n",
    "    b. ask the user for each of the elements, individually;\n",
    "    c. return the list."
   ]
  },
  {
   "cell_type": "code",
   "execution_count": 5,
   "metadata": {},
   "outputs": [],
   "source": [
    "def float_list():\n",
    "\n",
    "    x = ''\n",
    "    float_list = []\n",
    "\n",
    "    while not (type(x) == int):\n",
    "        \n",
    "        try:\n",
    "            x = int(input('Please provide a list size of your choice: '))\n",
    "    \n",
    "        except:\n",
    "            print('Please provide a valid size list size!')\n",
    "        \n",
    "        else:\n",
    "            print('Thank you! Now you have to select the elements individually')\n",
    "        \n",
    "    \n",
    "    for i in range(x):\n",
    "        \n",
    "        float_list.append(float(input(f'For element {i} provide a float number to add: ')))\n",
    "                 \n",
    "    return float_list"
   ]
  },
  {
   "cell_type": "code",
   "execution_count": 6,
   "metadata": {},
   "outputs": [
    {
     "name": "stdout",
     "output_type": "stream",
     "text": [
      "Please provide a list size of your choice: no\n",
      "Please provide a valid size list size!\n",
      "Please provide a list size of your choice: 5\n",
      "Thank you! Now you have to select the elements individually\n",
      "For element 0 provide a float number to add: 1.5\n",
      "For element 1 provide a float number to add: 2\n",
      "For element 2 provide a float number to add: 3.5\n",
      "For element 3 provide a float number to add: 4.1\n",
      "For element 4 provide a float number to add: 5\n"
     ]
    },
    {
     "data": {
      "text/plain": [
       "[1.5, 2.0, 3.5, 4.1, 5.0]"
      ]
     },
     "execution_count": 6,
     "metadata": {},
     "output_type": "execute_result"
    }
   ],
   "source": [
    "float_list()"
   ]
  },
  {
   "cell_type": "markdown",
   "metadata": {},
   "source": [
    "### 6. Create a program that:\n",
    "    \n",
    "    a. reads a file (txt file) containing more than 10 rows;\n",
    "    b. creates a new file which excludes the 10th row of the original one."
   ]
  },
  {
   "cell_type": "code",
   "execution_count": 94,
   "metadata": {},
   "outputs": [
    {
     "data": {
      "text/plain": [
       "['line 1 \\n',\n",
       " 'line 2\\n',\n",
       " 'line 3\\n',\n",
       " 'line 4\\n',\n",
       " 'line 5\\n',\n",
       " 'line 6\\n',\n",
       " 'line 7\\n',\n",
       " 'line 8\\n',\n",
       " 'line 9\\n',\n",
       " 'line 10\\n',\n",
       " 'line 11']"
      ]
     },
     "execution_count": 94,
     "metadata": {},
     "output_type": "execute_result"
    }
   ],
   "source": [
    "with open('file.txt') as read_file:\n",
    "    content = read_file.readlines()\n",
    "    \n",
    "content"
   ]
  },
  {
   "cell_type": "code",
   "execution_count": 98,
   "metadata": {},
   "outputs": [],
   "source": [
    "def file_reader(file):\n",
    "\n",
    "    with open(file) as read_file:\n",
    "        content = read_file.readlines()\n",
    "        \n",
    "    content_list = []\n",
    "    \n",
    "    for a,b in enumerate(content):\n",
    "        if a < 9:\n",
    "            content_list.append(b)\n",
    "            \n",
    "    new_file = open('new_file.txt',mode='w+')\n",
    "    new_file.writelines(content_list)\n",
    "    \n",
    "    print('A new file called new_file.txt has been created excluding the 10th row of the original file')"
   ]
  },
  {
   "cell_type": "code",
   "execution_count": 99,
   "metadata": {},
   "outputs": [
    {
     "name": "stdout",
     "output_type": "stream",
     "text": [
      "A new file called new_file.txt has been created excluding the 10th row of the original file\n"
     ]
    }
   ],
   "source": [
    "file_reader('file.txt')"
   ]
  },
  {
   "cell_type": "code",
   "execution_count": 101,
   "metadata": {},
   "outputs": [
    {
     "data": {
      "text/plain": [
       "9"
      ]
     },
     "execution_count": 101,
     "metadata": {},
     "output_type": "execute_result"
    }
   ],
   "source": [
    "with open ('new_file.txt') as read_new_file:\n",
    "    content_new_file = read_new_file.readlines()\n",
    "\n",
    "#prove that the 10th row of the original files was indeed excluded\n",
    "len(content_new_file)\n"
   ]
  },
  {
   "cell_type": "markdown",
   "metadata": {},
   "source": [
    "### 7. Given and integer number, use a loop to find its factorial."
   ]
  },
  {
   "cell_type": "code",
   "execution_count": 118,
   "metadata": {},
   "outputs": [],
   "source": [
    "def give_factorial():\n",
    "\n",
    "    x = ''\n",
    "    \n",
    "    while not (type(x) == int):\n",
    "        \n",
    "        try:\n",
    "            x = int(input('Provide an integer number to find its factorial: '))\n",
    "\n",
    "        except:\n",
    "            print('Please provide an integer number!')\n",
    "            \n",
    "        \n",
    "    factorial = 1\n",
    "\n",
    "    for n in range(x+1):\n",
    "        if n != 0:\n",
    "            factorial = n * factorial\n",
    "            \n",
    "    return factorial"
   ]
  },
  {
   "cell_type": "code",
   "execution_count": 119,
   "metadata": {},
   "outputs": [
    {
     "name": "stdout",
     "output_type": "stream",
     "text": [
      "Provide an integer number to find its factorial: no\n",
      "Please provide an integer number!\n",
      "Provide an integer number to find its factorial: 5\n"
     ]
    },
    {
     "data": {
      "text/plain": [
       "120"
      ]
     },
     "execution_count": 119,
     "metadata": {},
     "output_type": "execute_result"
    }
   ],
   "source": [
    "give_factorial()"
   ]
  },
  {
   "cell_type": "markdown",
   "metadata": {},
   "source": [
    "### 8. Using numpy library, create an array with values from 100 to 1000 with step=50,having 6 rows and 3 columns."
   ]
  },
  {
   "cell_type": "code",
   "execution_count": 266,
   "metadata": {},
   "outputs": [
    {
     "data": {
      "text/plain": [
       "array([[100, 150, 200],\n",
       "       [250, 300, 350],\n",
       "       [400, 450, 500],\n",
       "       [550, 600, 650],\n",
       "       [700, 750, 800],\n",
       "       [850, 900, 950]])"
      ]
     },
     "execution_count": 266,
     "metadata": {},
     "output_type": "execute_result"
    }
   ],
   "source": [
    "import numpy as np\n",
    "\n",
    "np.arange(100,1000,50).reshape(6,3)"
   ]
  },
  {
   "cell_type": "markdown",
   "metadata": {},
   "source": [
    "### 9. Sum arrays [[1, 2, 3], [10 , 10, 10]] and [[4, 2, 3], [1 ,1, 10]] and, then, create a newarray containing the square of each element"
   ]
  },
  {
   "cell_type": "code",
   "execution_count": 289,
   "metadata": {},
   "outputs": [
    {
     "name": "stdout",
     "output_type": "stream",
     "text": [
      "[[ 25  16  36]\n",
      " [121 121 400]]\n"
     ]
    }
   ],
   "source": [
    "x = np.array([[1,2,3],[10,10,10]])\n",
    "y = np.array([[4,2,3],[1,1,10]])\n",
    "\n",
    "squared_elements = []\n",
    "\n",
    "for x in np.add(x,y):\n",
    "    squared_elements.append(x**2)\n",
    "    \n",
    "print(np.array(squared_elements))"
   ]
  },
  {
   "cell_type": "markdown",
   "metadata": {},
   "source": [
    "### 10. Consider array [[1,2,3],[4,5,6],[7,8,9]], delete its second column and insert [[99,99,99]] on its place.\n"
   ]
  },
  {
   "cell_type": "code",
   "execution_count": 303,
   "metadata": {},
   "outputs": [
    {
     "name": "stdout",
     "output_type": "stream",
     "text": [
      "[[ 1  2  3]\n",
      " [99 99 99]\n",
      " [ 7  8  9]]\n"
     ]
    }
   ],
   "source": [
    "z = np.array([[1,2,3],[4,5,6],[7,8,9]])\n",
    "z[-2] = [99,99,99]\n",
    "print(z)"
   ]
  },
  {
   "cell_type": "markdown",
   "metadata": {},
   "source": [
    "### 11. Check if a string contains a ‘x’ followed by one or more ‘y’."
   ]
  },
  {
   "cell_type": "code",
   "execution_count": 141,
   "metadata": {},
   "outputs": [],
   "source": [
    "import re\n",
    "\n",
    "def string_check(some_string):\n",
    "    \n",
    "    pattern = '\\Dxy+'\n",
    "\n",
    "    r = re.search(pattern,some_string)\n",
    "    \n",
    "    if r is not None:\n",
    "        print('Check')\n",
    "    \n",
    "    else:\n",
    "        print(\"There is no 'x' followed by one or more 'y'\")\n",
    "    "
   ]
  },
  {
   "cell_type": "code",
   "execution_count": 145,
   "metadata": {},
   "outputs": [
    {
     "name": "stdout",
     "output_type": "stream",
     "text": [
      "Check\n"
     ]
    }
   ],
   "source": [
    "string_check('Check the foxy song')"
   ]
  },
  {
   "cell_type": "code",
   "execution_count": 146,
   "metadata": {},
   "outputs": [
    {
     "name": "stdout",
     "output_type": "stream",
     "text": [
      "There is no 'x' followed by one or more 'y'\n"
     ]
    }
   ],
   "source": [
    "string_check('Check the fox song')"
   ]
  },
  {
   "cell_type": "markdown",
   "metadata": {},
   "source": [
    "### 12. Create a function that:\n",
    "    a - receives an IP address and returns a list with both: original IP, original IP without its leading zeros (eg.:'128.005.055.190', '128.5.55.190'])."
   ]
  },
  {
   "cell_type": "code",
   "execution_count": 242,
   "metadata": {
    "scrolled": false
   },
   "outputs": [],
   "source": [
    "def clean_ip(ip):\n",
    "    \n",
    "    ip_list = []\n",
    "    \n",
    "    for x in ip.split('.'):\n",
    "        ip_list.append(int(x))\n",
    "    \n",
    "    clean_ip = [str(x) for x in ip_list]\n",
    "    \n",
    "    ips_list = [ip,('.'.join(clean_ip))]\n",
    "    \n",
    "    return ips_list"
   ]
  },
  {
   "cell_type": "code",
   "execution_count": 243,
   "metadata": {},
   "outputs": [
    {
     "data": {
      "text/plain": [
       "['128.005.055.190', '128.5.55.190']"
      ]
     },
     "execution_count": 243,
     "metadata": {},
     "output_type": "execute_result"
    }
   ],
   "source": [
    "clean_ip('128.005.055.190')"
   ]
  },
  {
   "cell_type": "markdown",
   "metadata": {},
   "source": [
    "### 13. Create a program that:\n",
    "    \n",
    "    a. Asks the user to write a sequence of words split by commas;\n",
    "    b. Prints that list sorted alphabetically. (Eg.: a,c,b -> [a,b,c])"
   ]
  },
  {
   "cell_type": "code",
   "execution_count": 260,
   "metadata": {},
   "outputs": [],
   "source": [
    "def sorted_sequence():\n",
    "    \n",
    "    sequence = input('Write a sequence of words split by commas: ')\n",
    "    \n",
    "    return sorted(sequence.split(','))"
   ]
  },
  {
   "cell_type": "code",
   "execution_count": 262,
   "metadata": {},
   "outputs": [
    {
     "name": "stdout",
     "output_type": "stream",
     "text": [
      "Write a sequence of words split by commas: shelby,andre,porto,braga,zambia\n"
     ]
    },
    {
     "data": {
      "text/plain": [
       "['andre', 'braga', 'porto', 'shelby', 'zambia']"
      ]
     },
     "execution_count": 262,
     "metadata": {},
     "output_type": "execute_result"
    }
   ],
   "source": [
    "sorted_sequence()"
   ]
  }
 ],
 "metadata": {
  "kernelspec": {
   "display_name": "Python 3",
   "language": "python",
   "name": "python3"
  },
  "language_info": {
   "codemirror_mode": {
    "name": "ipython",
    "version": 3
   },
   "file_extension": ".py",
   "mimetype": "text/x-python",
   "name": "python",
   "nbconvert_exporter": "python",
   "pygments_lexer": "ipython3",
   "version": "3.8.5"
  }
 },
 "nbformat": 4,
 "nbformat_minor": 4
}
